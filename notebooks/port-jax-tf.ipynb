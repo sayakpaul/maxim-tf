{
 "cells": [
  {
   "cell_type": "code",
   "execution_count": 1,
   "id": "f00a3bdd",
   "metadata": {},
   "outputs": [],
   "source": [
    "import sys\n",
    "\n",
    "sys.path.append(\"..\")"
   ]
  },
  {
   "cell_type": "code",
   "execution_count": 2,
   "id": "b29530cc",
   "metadata": {},
   "outputs": [
    {
     "name": "stderr",
     "output_type": "stream",
     "text": [
      "2022-10-03 16:07:46.125680: I tensorflow/core/platform/cpu_feature_guard.cc:193] This TensorFlow binary is optimized with oneAPI Deep Neural Network Library (oneDNN) to use the following CPU instructions in performance-critical operations:  AVX2 FMA\n",
      "To enable them in other operations, rebuild TensorFlow with the appropriate compiler flags.\n"
     ]
    }
   ],
   "source": [
    "from create_maxim_model import Model\n",
    "from maxim.configs import MAXIM_CONFIGS"
   ]
  },
  {
   "cell_type": "code",
   "execution_count": 3,
   "id": "2f817755",
   "metadata": {},
   "outputs": [
    {
     "name": "stderr",
     "output_type": "stream",
     "text": [
      "2022-10-03 16:07:50.774652: I tensorflow/core/platform/cpu_feature_guard.cc:193] This TensorFlow binary is optimized with oneAPI Deep Neural Network Library (oneDNN) to use the following CPU instructions in performance-critical operations:  AVX2 FMA\n",
      "To enable them in other operations, rebuild TensorFlow with the appropriate compiler flags.\n"
     ]
    }
   ],
   "source": [
    "# From https://github.com/google-research/maxim/blob/main/maxim/run_eval.py#L55\n",
    "\n",
    "VARIANT = \"S-3\"\n",
    "configs = MAXIM_CONFIGS.get(VARIANT)\n",
    "\n",
    "configs.update(\n",
    "    {\n",
    "        \"variant\": VARIANT,\n",
    "        \"dropout_rate\": 0.0,\n",
    "        \"num_outputs\": 3,\n",
    "        \"use_bias\": True,\n",
    "        \"num_supervision_scales\": 3,\n",
    "    }\n",
    ")\n",
    "\n",
    "model = Model(**configs)"
   ]
  },
  {
   "cell_type": "code",
   "execution_count": 4,
   "id": "767355f6",
   "metadata": {},
   "outputs": [],
   "source": [
    "# From https://github.com/google-research/maxim/blob/main/maxim/run_eval.py\n",
    "\n",
    "import tensorflow as tf\n",
    "import numpy as np\n",
    "import collections \n",
    "import io\n",
    "\n",
    "\n",
    "def recover_tree(keys, values):\n",
    "    \"\"\"Recovers a tree as a nested dict from flat names and values.\n",
    "    This function is useful to analyze checkpoints that are saved by our programs\n",
    "    without need to access the exact source code of the experiment. In particular,\n",
    "    it can be used to extract an reuse various subtrees of the scheckpoint, e.g.\n",
    "    subtree of parameters.\n",
    "    Args:\n",
    "      keys: a list of keys, where '/' is used as separator between nodes.\n",
    "      values: a list of leaf values.\n",
    "    Returns:\n",
    "      A nested tree-like dict.\n",
    "    \"\"\"\n",
    "    tree = {}\n",
    "    sub_trees = collections.defaultdict(list)\n",
    "    for k, v in zip(keys, values):\n",
    "        if \"/\" not in k:\n",
    "            tree[k] = v\n",
    "        else:\n",
    "            k_left, k_right = k.split(\"/\", 1)\n",
    "            sub_trees[k_left].append((k_right, v))\n",
    "    for k, kv_pairs in sub_trees.items():\n",
    "        k_subtree, v_subtree = zip(*kv_pairs)\n",
    "        tree[k] = recover_tree(k_subtree, v_subtree)\n",
    "    return tree\n",
    "\n",
    "\n",
    "def get_params(ckpt_path):\n",
    "    \"\"\"Get params checkpoint.\"\"\"\n",
    "\n",
    "    with tf.io.gfile.GFile(ckpt_path, \"rb\") as f:\n",
    "        data = f.read()\n",
    "    values = np.load(io.BytesIO(data))\n",
    "    params = recover_tree(*zip(*values.items()))\n",
    "    params = params[\"opt\"][\"target\"]\n",
    "\n",
    "    return params"
   ]
  },
  {
   "cell_type": "code",
   "execution_count": 5,
   "id": "0b443a27",
   "metadata": {},
   "outputs": [],
   "source": [
    "CKPT_PATH = \"gs://gresearch/maxim/ckpt/Denoising/SIDD/checkpoint.npz\"\n",
    "jax_params = get_params(CKPT_PATH)"
   ]
  },
  {
   "cell_type": "code",
   "execution_count": 6,
   "id": "47ec54e5",
   "metadata": {},
   "outputs": [
    {
     "data": {
      "text/plain": [
       "22.212795"
      ]
     },
     "execution_count": 6,
     "metadata": {},
     "output_type": "execute_result"
    }
   ],
   "source": [
    "model.count_params() / 1e6"
   ]
  },
  {
   "cell_type": "code",
   "execution_count": 7,
   "id": "81fbc9f8",
   "metadata": {},
   "outputs": [],
   "source": [
    "def get_model_vars(model):\n",
    "    model_variables = model.variables\n",
    "    model_variables_dict = {}\n",
    "    for v in model_variables:\n",
    "        model_variables_dict[v.name] = v\n",
    "\n",
    "    return model_variables_dict"
   ]
  },
  {
   "cell_type": "code",
   "execution_count": 8,
   "id": "a8060efd",
   "metadata": {},
   "outputs": [
    {
     "data": {
      "text/plain": [
       "['stage_0_input_conv_0/kernel:0',\n",
       " 'stage_0_input_conv_0/bias:0',\n",
       " 'stage_0_encoder_block_0_Conv_0/kernel:0',\n",
       " 'stage_0_encoder_block_0_Conv_0/bias:0',\n",
       " 'stage_0_encoder_block_0_SplitHeadMultiAxisGmlpLayer_0_LayerNorm_in/gamma:0']"
      ]
     },
     "execution_count": 8,
     "metadata": {},
     "output_type": "execute_result"
    }
   ],
   "source": [
    "tf_params = get_model_vars(model)\n",
    "list(tf_params.keys())[:5]"
   ]
  },
  {
   "cell_type": "code",
   "execution_count": 9,
   "id": "832a74bf",
   "metadata": {
    "scrolled": false
   },
   "outputs": [
    {
     "data": {
      "text/plain": [
       "dict_keys(['UpSampleRatio_0', 'UpSampleRatio_1', 'UpSampleRatio_10', 'UpSampleRatio_11', 'UpSampleRatio_12', 'UpSampleRatio_13', 'UpSampleRatio_14', 'UpSampleRatio_15', 'UpSampleRatio_16', 'UpSampleRatio_17', 'UpSampleRatio_18', 'UpSampleRatio_19', 'UpSampleRatio_2', 'UpSampleRatio_20', 'UpSampleRatio_21', 'UpSampleRatio_22', 'UpSampleRatio_23', 'UpSampleRatio_24', 'UpSampleRatio_25', 'UpSampleRatio_26', 'UpSampleRatio_27', 'UpSampleRatio_28', 'UpSampleRatio_29', 'UpSampleRatio_3', 'UpSampleRatio_30', 'UpSampleRatio_31', 'UpSampleRatio_32', 'UpSampleRatio_33', 'UpSampleRatio_34', 'UpSampleRatio_35', 'UpSampleRatio_36', 'UpSampleRatio_37', 'UpSampleRatio_38', 'UpSampleRatio_39', 'UpSampleRatio_4', 'UpSampleRatio_40', 'UpSampleRatio_41', 'UpSampleRatio_42', 'UpSampleRatio_43', 'UpSampleRatio_44', 'UpSampleRatio_45', 'UpSampleRatio_46', 'UpSampleRatio_47', 'UpSampleRatio_48', 'UpSampleRatio_49', 'UpSampleRatio_5', 'UpSampleRatio_50', 'UpSampleRatio_51', 'UpSampleRatio_52', 'UpSampleRatio_53', 'UpSampleRatio_6', 'UpSampleRatio_7', 'UpSampleRatio_8', 'UpSampleRatio_9', 'stage_0_cross_gating_block_0', 'stage_0_cross_gating_block_1', 'stage_0_cross_gating_block_2', 'stage_0_decoder_block_0', 'stage_0_decoder_block_1', 'stage_0_decoder_block_2', 'stage_0_encoder_block_0', 'stage_0_encoder_block_1', 'stage_0_encoder_block_2', 'stage_0_global_block_0', 'stage_0_global_block_1', 'stage_0_input_conv_0', 'stage_0_input_conv_1', 'stage_0_input_conv_2', 'stage_0_supervised_attention_module_0', 'stage_0_supervised_attention_module_1', 'stage_0_supervised_attention_module_2', 'stage_1_cross_gating_block_0', 'stage_1_cross_gating_block_1', 'stage_1_cross_gating_block_2', 'stage_1_decoder_block_0', 'stage_1_decoder_block_1', 'stage_1_decoder_block_2', 'stage_1_encoder_block_0', 'stage_1_encoder_block_1', 'stage_1_encoder_block_2', 'stage_1_global_block_0', 'stage_1_global_block_1', 'stage_1_input_conv_0', 'stage_1_input_conv_1', 'stage_1_input_conv_2', 'stage_1_input_fuse_sam_0', 'stage_1_input_fuse_sam_1', 'stage_1_input_fuse_sam_2', 'stage_1_supervised_attention_module_0', 'stage_1_supervised_attention_module_1', 'stage_1_supervised_attention_module_2', 'stage_2_cross_gating_block_0', 'stage_2_cross_gating_block_1', 'stage_2_cross_gating_block_2', 'stage_2_decoder_block_0', 'stage_2_decoder_block_1', 'stage_2_decoder_block_2', 'stage_2_encoder_block_0', 'stage_2_encoder_block_1', 'stage_2_encoder_block_2', 'stage_2_global_block_0', 'stage_2_global_block_1', 'stage_2_input_conv_0', 'stage_2_input_conv_1', 'stage_2_input_conv_2', 'stage_2_input_fuse_sam_0', 'stage_2_input_fuse_sam_1', 'stage_2_input_fuse_sam_2', 'stage_2_output_conv_0', 'stage_2_output_conv_1', 'stage_2_output_conv_2'])"
      ]
     },
     "execution_count": 9,
     "metadata": {},
     "output_type": "execute_result"
    }
   ],
   "source": [
    "jax_params.keys()"
   ]
  },
  {
   "cell_type": "code",
   "execution_count": 10,
   "id": "a3640d39",
   "metadata": {},
   "outputs": [],
   "source": [
    "def modify_convs(jax_params):\n",
    "    modified_jax_params = collections.OrderedDict()\n",
    "\n",
    "    for k in jax_params:\n",
    "        if \"conv\" in k:\n",
    "            conv_dict = jax_params.get(k)\n",
    "\n",
    "            for j in conv_dict:\n",
    "                modified_param_name = f\"{k}/{j}:0\"\n",
    "                params = jax_params.get(k).get(j)\n",
    "                modified_jax_params.update({modified_param_name: params})\n",
    "\n",
    "    return modified_jax_params"
   ]
  },
  {
   "cell_type": "code",
   "execution_count": 11,
   "id": "ed7bcbf6",
   "metadata": {},
   "outputs": [],
   "source": [
    "# modified_jax_params_convs = modify_convs(jax_params)\n",
    "# modified_jax_params_convs.keys()"
   ]
  },
  {
   "cell_type": "markdown",
   "id": "401bcfdb",
   "metadata": {},
   "source": [
    "```\n",
    "gamma => scale\n",
    "beta => bias\n",
    "```"
   ]
  },
  {
   "cell_type": "code",
   "execution_count": 12,
   "id": "2d4a3578",
   "metadata": {},
   "outputs": [],
   "source": [
    "def modify_cross_gating(jax_params):\n",
    "    modified_jax_params = {}\n",
    "\n",
    "    for k in jax_params:\n",
    "        if \"cross_gating\" in k:\n",
    "            for j in jax_params[k]:\n",
    "                if \"SplitHeadMultiAxisGating\" not in j:\n",
    "                    for l in jax_params[k][j]:\n",
    "                        modified_param_name = f\"{k}_{j}/{l}:0\"\n",
    "                        params = jax_params.get(k).get(j).get(l)\n",
    "                        modified_jax_params.update({modified_param_name: params})\n",
    "                else:\n",
    "                    for l in jax_params[k][j]:\n",
    "                        for m in jax_params[k][j][l]:\n",
    "                            modified_param_name = f\"{k}_{j}_{l}/{m}:0\"\n",
    "                            params = jax_params.get(k).get(j).get(l).get(m)\n",
    "                            modified_jax_params.update({modified_param_name: params})\n",
    "\n",
    "    layernorm_dict = {}\n",
    "    to_be_removed = []\n",
    "    for k in modified_jax_params:\n",
    "        if \"layernorm\" in k.lower():\n",
    "            param = modified_jax_params.get(k)\n",
    "\n",
    "            if \"scale\" in k:\n",
    "                param_name = k.replace(\"scale\", \"gamma\")\n",
    "            elif \"bias\" in k:\n",
    "                param_name = k.replace(\"bias\", \"beta\")\n",
    "\n",
    "            layernorm_dict.update({param_name: param})\n",
    "            to_be_removed.append(k)\n",
    "\n",
    "    for k in to_be_removed:\n",
    "        del modified_jax_params[k]\n",
    "    modified_jax_params.update(layernorm_dict)\n",
    "\n",
    "    return modified_jax_params"
   ]
  },
  {
   "cell_type": "code",
   "execution_count": 13,
   "id": "129693ce",
   "metadata": {},
   "outputs": [],
   "source": [
    "# modify_cross_gating(jax_params).keys()"
   ]
  },
  {
   "cell_type": "code",
   "execution_count": 14,
   "id": "d26efbe9",
   "metadata": {},
   "outputs": [
    {
     "name": "stdout",
     "output_type": "stream",
     "text": [
      "{'input_fuse_sam', 'encoder_block', 'decoder_block', 'global_block', 'cross_gating_block', 'supervised_attention_module'}\n"
     ]
    }
   ],
   "source": [
    "non_upsample = [\n",
    "    \"stage_0_cross_gating_block_0\",\n",
    "    \"stage_0_cross_gating_block_1\",\n",
    "    \"stage_0_cross_gating_block_2\",\n",
    "    \"stage_0_decoder_block_0\",\n",
    "    \"stage_0_decoder_block_1\",\n",
    "    \"stage_0_decoder_block_2\",\n",
    "    \"stage_0_encoder_block_0\",\n",
    "    \"stage_0_encoder_block_1\",\n",
    "    \"stage_0_encoder_block_2\",\n",
    "    \"stage_0_global_block_0\",\n",
    "    \"stage_0_global_block_1\",\n",
    "    \"stage_0_input_conv_0\",\n",
    "    \"stage_0_input_conv_1\",\n",
    "    \"stage_0_input_conv_2\",\n",
    "    \"stage_0_supervised_attention_module_0\",\n",
    "    \"stage_0_supervised_attention_module_1\",\n",
    "    \"stage_0_supervised_attention_module_2\",\n",
    "    \"stage_1_cross_gating_block_0\",\n",
    "    \"stage_1_cross_gating_block_1\",\n",
    "    \"stage_1_cross_gating_block_2\",\n",
    "    \"stage_1_decoder_block_0\",\n",
    "    \"stage_1_decoder_block_1\",\n",
    "    \"stage_1_decoder_block_2\",\n",
    "    \"stage_1_encoder_block_0\",\n",
    "    \"stage_1_encoder_block_1\",\n",
    "    \"stage_1_encoder_block_2\",\n",
    "    \"stage_1_global_block_0\",\n",
    "    \"stage_1_global_block_1\",\n",
    "    \"stage_1_input_conv_0\",\n",
    "    \"stage_1_input_conv_1\",\n",
    "    \"stage_1_input_conv_2\",\n",
    "    \"stage_1_input_fuse_sam_0\",\n",
    "    \"stage_1_input_fuse_sam_1\",\n",
    "    \"stage_1_input_fuse_sam_2\",\n",
    "    \"stage_1_supervised_attention_module_0\",\n",
    "    \"stage_1_supervised_attention_module_1\",\n",
    "    \"stage_1_supervised_attention_module_2\",\n",
    "    \"stage_2_cross_gating_block_0\",\n",
    "    \"stage_2_cross_gating_block_1\",\n",
    "    \"stage_2_cross_gating_block_2\",\n",
    "    \"stage_2_decoder_block_0\",\n",
    "    \"stage_2_decoder_block_1\",\n",
    "    \"stage_2_decoder_block_2\",\n",
    "    \"stage_2_encoder_block_0\",\n",
    "    \"stage_2_encoder_block_1\",\n",
    "    \"stage_2_encoder_block_2\",\n",
    "    \"stage_2_global_block_0\",\n",
    "    \"stage_2_global_block_1\",\n",
    "    \"stage_2_input_conv_0\",\n",
    "    \"stage_2_input_conv_1\",\n",
    "    \"stage_2_input_conv_2\",\n",
    "    \"stage_2_input_fuse_sam_0\",\n",
    "    \"stage_2_input_fuse_sam_1\",\n",
    "    \"stage_2_input_fuse_sam_2\",\n",
    "    \"stage_2_output_conv_0\",\n",
    "    \"stage_2_output_conv_1\",\n",
    "    \"stage_2_output_conv_2\",\n",
    "]\n",
    "\n",
    "\n",
    "unique_blocks = set()\n",
    "\n",
    "for block in non_upsample:\n",
    "    if \"conv\" not in block:\n",
    "        block = block.replace(\"stage_\", \"\")\n",
    "        block = \"\".join([i for i in block if not i.isdigit()])\n",
    "        unique_blocks.add(block[1 : -1])\n",
    "\n",
    "print(unique_blocks)"
   ]
  },
  {
   "cell_type": "code",
   "execution_count": 15,
   "id": "b2a5469e",
   "metadata": {},
   "outputs": [
    {
     "data": {
      "text/plain": [
       "5"
      ]
     },
     "execution_count": 15,
     "metadata": {},
     "output_type": "execute_result"
    }
   ],
   "source": [
    "# Python3 Program to find depth of a dictionary\n",
    "# https://www.geeksforgeeks.org/python-find-depth-of-a-dictionary/\n",
    "def dict_depth(my_dict):\n",
    "    if isinstance(my_dict, dict):\n",
    "\n",
    "        return 1 + (max(map(dict_depth, my_dict.values())) if my_dict else 0)\n",
    "\n",
    "    return 0\n",
    "\n",
    "\n",
    "dict_depth(jax_params[\"stage_0_global_block_1\"])"
   ]
  },
  {
   "cell_type": "code",
   "execution_count": 16,
   "id": "b53345e6",
   "metadata": {},
   "outputs": [],
   "source": [
    "def modify_unique_block(jax_params, block_name):\n",
    "    modified_jax_params = collections.OrderedDict()\n",
    "\n",
    "    for k in jax_params:\n",
    "        if block_name in k:\n",
    "            for j in jax_params[k]:\n",
    "                if dict_depth(jax_params[k][j]) == 1:\n",
    "                    for l in jax_params[k][j]:\n",
    "                        modified_param_name = f\"{k}_{j}/{l}:0\"\n",
    "                        params = jax_params[k][j][l]\n",
    "                        modified_jax_params.update({modified_param_name: params})\n",
    "\n",
    "                elif dict_depth(jax_params[k][j]) == 3:\n",
    "                    for l in jax_params[k][j]:\n",
    "                        for m in jax_params[k][j][l]:\n",
    "                            if not dict_depth(jax_params[k][j][l][m]):\n",
    "                                modified_param_name = f\"{k}_{j}_{l}/{m}:0\"\n",
    "                                params = jax_params[k][j][l][m]\n",
    "                                modified_jax_params.update(\n",
    "                                    {modified_param_name: params}\n",
    "                                )\n",
    "                            else:\n",
    "                                for n in jax_params[k][j][l][m]:\n",
    "                                    modified_param_name = f\"{k}_{j}_{l}_{m}/{n}:0\"\n",
    "                                    params = jax_params[k][j][l][m][n]\n",
    "                                    modified_jax_params.update(\n",
    "                                        {modified_param_name: params}\n",
    "                                    )\n",
    "\n",
    "                elif dict_depth(jax_params[k][j]) == 4:\n",
    "                    for l in jax_params[k][j]:\n",
    "                        if dict_depth(jax_params[k][j][l]) == 1:\n",
    "                            for m in jax_params[k][j][l]:\n",
    "                                modified_param_name = f\"{k}_{j}_{l}/{m}:0\"\n",
    "                                params = jax_params[k][j][l][m]\n",
    "                                modified_jax_params.update(\n",
    "                                    {modified_param_name: params}\n",
    "                                )\n",
    "                        elif dict_depth(jax_params[k][j][l]) == 3:\n",
    "                            for m in jax_params[k][j][l]:\n",
    "                                if dict_depth(jax_params[k][j][l][m]) == 1:\n",
    "                                    for n in jax_params[k][j][l][m]:\n",
    "                                        modified_param_name = f\"{k}_{j}_{l}_{m}/{n}:0\"\n",
    "                                        params = jax_params[k][j][l][m][n]\n",
    "                                        modified_jax_params.update(\n",
    "                                            {modified_param_name: params}\n",
    "                                        )\n",
    "                                elif dict_depth(jax_params[k][j][l][m]) == 2:\n",
    "                                    for n in jax_params[k][j][l][m]:\n",
    "                                        for o in jax_params[k][j][l][m][n]:\n",
    "                                            modified_param_name = (\n",
    "                                                f\"{k}_{j}_{l}_{m}_{n}/{o}:0\"\n",
    "                                            )\n",
    "                                            params = jax_params[k][j][l][m][n][\n",
    "                                                o\n",
    "                                            ]\n",
    "                                            modified_jax_params.update(\n",
    "                                                {modified_param_name: params}\n",
    "                                            )\n",
    "                                            \n",
    "                                            \n",
    "    layernorm_dict = {}\n",
    "    to_be_removed = []\n",
    "    for k in modified_jax_params:\n",
    "        if \"layernorm\" in k.lower():\n",
    "            param = modified_jax_params.get(k)\n",
    "\n",
    "            if \"scale\" in k:\n",
    "                param_name = k.replace(\"scale\", \"gamma\")\n",
    "            elif \"bias\" in k:\n",
    "                param_name = k.replace(\"bias\", \"beta\")\n",
    "\n",
    "            layernorm_dict.update({param_name: param})\n",
    "            to_be_removed.append(k)\n",
    "\n",
    "    for k in to_be_removed:\n",
    "        del modified_jax_params[k]\n",
    "    modified_jax_params.update(layernorm_dict)\n",
    "\n",
    "    return modified_jax_params"
   ]
  },
  {
   "cell_type": "code",
   "execution_count": 17,
   "id": "1e28c566",
   "metadata": {},
   "outputs": [],
   "source": [
    "def modify_upsample(jax_params):\n",
    "    i = 1\n",
    "    modified_jax_params = collections.OrderedDict()\n",
    "    \n",
    "    for k in jax_params:\n",
    "        if \"upsample\" in k.lower():\n",
    "            k_t = k.split(\"_\")[0] + \"_\" + str(i)\n",
    "            i += 1\n",
    "            for j in jax_params[k]:\n",
    "                for l in jax_params[k][j]:\n",
    "                    modified_param_name = f\"{k_t}_{j}/{l}:0\"\n",
    "                    params = jax_params[k][j][l]\n",
    "                    modified_jax_params.update({modified_param_name: params})\n",
    "\n",
    "    return modified_jax_params"
   ]
  },
  {
   "cell_type": "code",
   "execution_count": 18,
   "id": "793222e5",
   "metadata": {},
   "outputs": [],
   "source": [
    "all_modified_jax_params = collections.OrderedDict()\n",
    "\n",
    "for unique_block in unique_blocks:\n",
    "    all_modified_jax_params.update(modify_unique_block(jax_params, unique_block))\n",
    "    \n",
    "    \n",
    "all_modified_jax_params.update(modify_convs(jax_params))\n",
    "all_modified_jax_params.update(modify_cross_gating(jax_params))\n",
    "all_modified_jax_params.update(modify_upsample(jax_params))"
   ]
  },
  {
   "cell_type": "code",
   "execution_count": 19,
   "id": "3c44ada7",
   "metadata": {},
   "outputs": [
    {
     "data": {
      "text/plain": [
       "2754"
      ]
     },
     "execution_count": 19,
     "metadata": {},
     "output_type": "execute_result"
    }
   ],
   "source": [
    "tf_params = get_model_vars(model)\n",
    "len(tf_params.keys())"
   ]
  },
  {
   "cell_type": "code",
   "execution_count": 20,
   "id": "197c525e",
   "metadata": {},
   "outputs": [
    {
     "data": {
      "text/plain": [
       "1968"
      ]
     },
     "execution_count": 20,
     "metadata": {},
     "output_type": "execute_result"
    }
   ],
   "source": [
    "len(all_modified_jax_params.keys())"
   ]
  },
  {
   "cell_type": "code",
   "execution_count": 36,
   "id": "0fbdffcf",
   "metadata": {
    "scrolled": false
   },
   "outputs": [],
   "source": [
    "# set(tf_params.keys()) - set(all_modified_jax_params.keys())"
   ]
  },
  {
   "cell_type": "code",
   "execution_count": 46,
   "id": "3f501a7a",
   "metadata": {
    "scrolled": false
   },
   "outputs": [
    {
     "name": "stdout",
     "output_type": "stream",
     "text": [
      "============input_fuse_sam============\n",
      "========================\n",
      "\n",
      "============encoder_block============\n",
      "========================\n",
      "\n",
      "============decoder_block============\n",
      "========================\n",
      "\n",
      "============global_block============\n",
      "========================\n",
      "\n",
      "============cross_gating_block============\n",
      "========================\n",
      "\n",
      "============supervised_attention_module============\n",
      "========================\n",
      "\n"
     ]
    }
   ],
   "source": [
    "def get_dict_depths(jax_params, block_name):\n",
    "    depth_list = set()\n",
    "\n",
    "    for l in jax_params.keys():\n",
    "        if block_name in l:\n",
    "            for k in jax_params[l]:\n",
    "                depth_list.add(dict_depth(jax_params[l][k]))\n",
    "    return depth_list\n",
    "\n",
    "\n",
    "final_depth_mapping = collections.defaultdict(set)\n",
    "\n",
    "for block_name in unique_blocks:\n",
    "    print(f\"============{block_name}============\")\n",
    "    if block_name not in final_depth_mapping:\n",
    "        final_depth_mapping.update(\n",
    "            {block_name: get_dict_depths(jax_params, block_name)}\n",
    "        )\n",
    "    else:\n",
    "        final_depth_mapping[block_name].add(get_dict_depths(jax_params, block_name))\n",
    "\n",
    "    print(f\"========================\\n\")"
   ]
  },
  {
   "cell_type": "code",
   "execution_count": 47,
   "id": "8cf2b9d0",
   "metadata": {},
   "outputs": [
    {
     "data": {
      "text/plain": [
       "defaultdict(set,\n",
       "            {'input_fuse_sam': {1, 2},\n",
       "             'encoder_block': {1, 3, 4},\n",
       "             'decoder_block': {1, 5},\n",
       "             'global_block': {1, 3, 4},\n",
       "             'cross_gating_block': {1, 2},\n",
       "             'supervised_attention_module': {1}})"
      ]
     },
     "execution_count": 47,
     "metadata": {},
     "output_type": "execute_result"
    }
   ],
   "source": [
    "final_depth_mapping"
   ]
  },
  {
   "cell_type": "code",
   "execution_count": 48,
   "id": "f0db59b7",
   "metadata": {},
   "outputs": [
    {
     "data": {
      "text/plain": [
       "(6, 6)"
      ]
     },
     "execution_count": 48,
     "metadata": {},
     "output_type": "execute_result"
    }
   ],
   "source": [
    "len(final_depth_mapping), len(unique_blocks)"
   ]
  },
  {
   "cell_type": "markdown",
   "id": "fed1d605",
   "metadata": {},
   "source": [
    "## Todos\n",
    "\n",
    "* Need to devise modification strategies for each of these blocks except cross_gating_block. "
   ]
  }
 ],
 "metadata": {
  "kernelspec": {
   "display_name": "Python 3 (ipykernel)",
   "language": "python",
   "name": "python3"
  },
  "language_info": {
   "codemirror_mode": {
    "name": "ipython",
    "version": 3
   },
   "file_extension": ".py",
   "mimetype": "text/x-python",
   "name": "python",
   "nbconvert_exporter": "python",
   "pygments_lexer": "ipython3",
   "version": "3.8.2"
  }
 },
 "nbformat": 4,
 "nbformat_minor": 5
}
